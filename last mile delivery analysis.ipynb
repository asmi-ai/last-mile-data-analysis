{
 "cells": [
  {
   "cell_type": "code",
   "execution_count": 1,
   "id": "d27b9a95",
   "metadata": {},
   "outputs": [],
   "source": [
    "import numpy as np\n",
    "import pandas as pd\n",
    "import matplotlib.pyplot as plt\n",
    "import seaborn as sns\n",
    "from warnings import filterwarnings\n",
    "filterwarnings('ignore')"
   ]
  },
  {
   "cell_type": "code",
   "execution_count": 2,
   "id": "732ffcf0",
   "metadata": {},
   "outputs": [],
   "source": [
    "delivery = pd.read_csv('deliveries.csv')\n",
    "orderitems = pd.read_csv('order_items.csv')\n",
    "order = pd.read_csv('orders.csv')\n",
    "product = pd.read_csv('products.csv')"
   ]
  },
  {
   "cell_type": "code",
   "execution_count": 3,
   "id": "081c6e05",
   "metadata": {},
   "outputs": [
    {
     "data": {
      "text/html": [
       "<div>\n",
       "<style scoped>\n",
       "    .dataframe tbody tr th:only-of-type {\n",
       "        vertical-align: middle;\n",
       "    }\n",
       "\n",
       "    .dataframe tbody tr th {\n",
       "        vertical-align: top;\n",
       "    }\n",
       "\n",
       "    .dataframe thead th {\n",
       "        text-align: right;\n",
       "    }\n",
       "</style>\n",
       "<table border=\"1\" class=\"dataframe\">\n",
       "  <thead>\n",
       "    <tr style=\"text-align: right;\">\n",
       "      <th></th>\n",
       "      <th>order_id</th>\n",
       "      <th>time_stamp</th>\n",
       "      <th>status</th>\n",
       "    </tr>\n",
       "  </thead>\n",
       "  <tbody>\n",
       "    <tr>\n",
       "      <th>0</th>\n",
       "      <td>321230114</td>\n",
       "      <td>2020-12-11 00:01:29.000000000</td>\n",
       "      <td>Pending</td>\n",
       "    </tr>\n",
       "    <tr>\n",
       "      <th>1</th>\n",
       "      <td>321230114</td>\n",
       "      <td>2020-12-11 00:06:29.000000000</td>\n",
       "      <td>Out For Delivery</td>\n",
       "    </tr>\n",
       "    <tr>\n",
       "      <th>2</th>\n",
       "      <td>321230114</td>\n",
       "      <td>2020-12-11 00:19:13.299151076</td>\n",
       "      <td>Delivered</td>\n",
       "    </tr>\n",
       "    <tr>\n",
       "      <th>3</th>\n",
       "      <td>321230115</td>\n",
       "      <td>2020-12-11 00:36:02.000000000</td>\n",
       "      <td>Pending</td>\n",
       "    </tr>\n",
       "    <tr>\n",
       "      <th>4</th>\n",
       "      <td>321230115</td>\n",
       "      <td>2020-12-11 00:41:02.000000000</td>\n",
       "      <td>Out For Delivery</td>\n",
       "    </tr>\n",
       "  </tbody>\n",
       "</table>\n",
       "</div>"
      ],
      "text/plain": [
       "    order_id                     time_stamp            status\n",
       "0  321230114  2020-12-11 00:01:29.000000000           Pending\n",
       "1  321230114  2020-12-11 00:06:29.000000000  Out For Delivery\n",
       "2  321230114  2020-12-11 00:19:13.299151076         Delivered\n",
       "3  321230115  2020-12-11 00:36:02.000000000           Pending\n",
       "4  321230115  2020-12-11 00:41:02.000000000  Out For Delivery"
      ]
     },
     "execution_count": 3,
     "metadata": {},
     "output_type": "execute_result"
    }
   ],
   "source": [
    "delivery.head()"
   ]
  },
  {
   "cell_type": "code",
   "execution_count": 4,
   "id": "acb96f86",
   "metadata": {},
   "outputs": [
    {
     "name": "stdout",
     "output_type": "stream",
     "text": [
      "<class 'pandas.core.frame.DataFrame'>\n",
      "RangeIndex: 1363008 entries, 0 to 1363007\n",
      "Data columns (total 3 columns):\n",
      " #   Column      Non-Null Count    Dtype \n",
      "---  ------      --------------    ----- \n",
      " 0   order_id    1363008 non-null  int64 \n",
      " 1   time_stamp  1363008 non-null  object\n",
      " 2   status      1363008 non-null  object\n",
      "dtypes: int64(1), object(2)\n",
      "memory usage: 31.2+ MB\n"
     ]
    }
   ],
   "source": [
    "delivery.info()"
   ]
  },
  {
   "cell_type": "code",
   "execution_count": 5,
   "id": "c33b5d5f",
   "metadata": {},
   "outputs": [
    {
     "name": "stdout",
     "output_type": "stream",
     "text": [
      "<class 'pandas.core.frame.DataFrame'>\n",
      "RangeIndex: 454336 entries, 0 to 454335\n",
      "Data columns (total 2 columns):\n",
      " #   Column    Non-Null Count   Dtype \n",
      "---  ------    --------------   ----- \n",
      " 0   order_id  454336 non-null  int64 \n",
      " 1   item_id   454336 non-null  object\n",
      "dtypes: int64(1), object(1)\n",
      "memory usage: 6.9+ MB\n"
     ]
    }
   ],
   "source": [
    "orderitems.info()"
   ]
  },
  {
   "cell_type": "code",
   "execution_count": 6,
   "id": "ff475680",
   "metadata": {},
   "outputs": [
    {
     "name": "stdout",
     "output_type": "stream",
     "text": [
      "<class 'pandas.core.frame.DataFrame'>\n",
      "RangeIndex: 454336 entries, 0 to 454335\n",
      "Data columns (total 2 columns):\n",
      " #   Column           Non-Null Count   Dtype \n",
      "---  ------           --------------   ----- \n",
      " 0   order_id         454336 non-null  int64 \n",
      " 1   order_placed_at  454336 non-null  object\n",
      "dtypes: int64(1), object(1)\n",
      "memory usage: 6.9+ MB\n"
     ]
    }
   ],
   "source": [
    "order.info()"
   ]
  },
  {
   "cell_type": "code",
   "execution_count": 7,
   "id": "f98bfb86",
   "metadata": {},
   "outputs": [
    {
     "name": "stdout",
     "output_type": "stream",
     "text": [
      "<class 'pandas.core.frame.DataFrame'>\n",
      "RangeIndex: 37 entries, 0 to 36\n",
      "Data columns (total 5 columns):\n",
      " #   Column    Non-Null Count  Dtype \n",
      "---  ------    --------------  ----- \n",
      " 0   item_id   37 non-null     object\n",
      " 1   category  37 non-null     object\n",
      " 2   Item      37 non-null     object\n",
      " 3   Size      37 non-null     object\n",
      " 4   Price     37 non-null     int64 \n",
      "dtypes: int64(1), object(4)\n",
      "memory usage: 1.6+ KB\n"
     ]
    }
   ],
   "source": [
    "product.info()"
   ]
  },
  {
   "cell_type": "code",
   "execution_count": 8,
   "id": "fc6dd04f",
   "metadata": {},
   "outputs": [
    {
     "data": {
      "text/plain": [
       "(    order_id                      item_id\n",
       " 0  321230114  ['p_025', 'p_032', 'p_037']\n",
       " 1  321230115           ['p_017', 'p_012']\n",
       " 2  321230116           ['p_027', 'p_037']\n",
       " 3  321230117           ['p_004', 'p_029']\n",
       " 4  321230118           ['p_017', 'p_037'],\n",
       " Index(['order_id', 'item_id'], dtype='object'))"
      ]
     },
     "execution_count": 8,
     "metadata": {},
     "output_type": "execute_result"
    }
   ],
   "source": [
    "# Rename the column 'items_ordered' to 'item_id'\n",
    "orderitems.rename(columns={'items_ordered': 'item_id'}, inplace=True)\n",
    "\n",
    "# Display the first few rows and columns to confirm the change\n",
    "orderitems.head(), orderitems.columns"
   ]
  },
  {
   "cell_type": "code",
   "execution_count": 9,
   "id": "9ae0cee7",
   "metadata": {},
   "outputs": [
    {
     "data": {
      "text/html": [
       "<div>\n",
       "<style scoped>\n",
       "    .dataframe tbody tr th:only-of-type {\n",
       "        vertical-align: middle;\n",
       "    }\n",
       "\n",
       "    .dataframe tbody tr th {\n",
       "        vertical-align: top;\n",
       "    }\n",
       "\n",
       "    .dataframe thead th {\n",
       "        text-align: right;\n",
       "    }\n",
       "</style>\n",
       "<table border=\"1\" class=\"dataframe\">\n",
       "  <thead>\n",
       "    <tr style=\"text-align: right;\">\n",
       "      <th></th>\n",
       "      <th>order_id</th>\n",
       "    </tr>\n",
       "  </thead>\n",
       "  <tbody>\n",
       "    <tr>\n",
       "      <th>count</th>\n",
       "      <td>1.363008e+06</td>\n",
       "    </tr>\n",
       "    <tr>\n",
       "      <th>mean</th>\n",
       "      <td>3.214573e+08</td>\n",
       "    </tr>\n",
       "    <tr>\n",
       "      <th>std</th>\n",
       "      <td>1.311556e+05</td>\n",
       "    </tr>\n",
       "    <tr>\n",
       "      <th>min</th>\n",
       "      <td>3.212301e+08</td>\n",
       "    </tr>\n",
       "    <tr>\n",
       "      <th>25%</th>\n",
       "      <td>3.213437e+08</td>\n",
       "    </tr>\n",
       "    <tr>\n",
       "      <th>50%</th>\n",
       "      <td>3.214573e+08</td>\n",
       "    </tr>\n",
       "    <tr>\n",
       "      <th>75%</th>\n",
       "      <td>3.215709e+08</td>\n",
       "    </tr>\n",
       "    <tr>\n",
       "      <th>max</th>\n",
       "      <td>3.216844e+08</td>\n",
       "    </tr>\n",
       "  </tbody>\n",
       "</table>\n",
       "</div>"
      ],
      "text/plain": [
       "           order_id\n",
       "count  1.363008e+06\n",
       "mean   3.214573e+08\n",
       "std    1.311556e+05\n",
       "min    3.212301e+08\n",
       "25%    3.213437e+08\n",
       "50%    3.214573e+08\n",
       "75%    3.215709e+08\n",
       "max    3.216844e+08"
      ]
     },
     "execution_count": 9,
     "metadata": {},
     "output_type": "execute_result"
    }
   ],
   "source": [
    "delivery.describe()"
   ]
  },
  {
   "cell_type": "code",
   "execution_count": 10,
   "id": "1bd8bdfc",
   "metadata": {},
   "outputs": [
    {
     "data": {
      "text/plain": [
       "order_id      0\n",
       "time_stamp    0\n",
       "status        0\n",
       "dtype: int64"
      ]
     },
     "execution_count": 10,
     "metadata": {},
     "output_type": "execute_result"
    }
   ],
   "source": [
    "delivery.isnull().sum()"
   ]
  },
  {
   "cell_type": "code",
   "execution_count": 11,
   "id": "9078ca66",
   "metadata": {},
   "outputs": [
    {
     "data": {
      "text/plain": [
       "order_id    0\n",
       "item_id     0\n",
       "dtype: int64"
      ]
     },
     "execution_count": 11,
     "metadata": {},
     "output_type": "execute_result"
    }
   ],
   "source": [
    "orderitems.isnull().sum()"
   ]
  },
  {
   "cell_type": "code",
   "execution_count": 12,
   "id": "80cc2bf3",
   "metadata": {},
   "outputs": [
    {
     "data": {
      "text/plain": [
       "order_id           0\n",
       "order_placed_at    0\n",
       "dtype: int64"
      ]
     },
     "execution_count": 12,
     "metadata": {},
     "output_type": "execute_result"
    }
   ],
   "source": [
    "order.isnull().sum()"
   ]
  },
  {
   "cell_type": "code",
   "execution_count": 13,
   "id": "9aa8d28c",
   "metadata": {},
   "outputs": [
    {
     "data": {
      "text/plain": [
       "item_id     0\n",
       "category    0\n",
       "Item        0\n",
       "Size        0\n",
       "Price       0\n",
       "dtype: int64"
      ]
     },
     "execution_count": 13,
     "metadata": {},
     "output_type": "execute_result"
    }
   ],
   "source": [
    "product.isnull().sum()"
   ]
  },
  {
   "cell_type": "code",
   "execution_count": 14,
   "id": "ac50e6f5",
   "metadata": {},
   "outputs": [],
   "source": [
    "delivery[\"time_stamp\"] = pd.to_datetime(delivery[\"time_stamp\"])\n",
    "\n",
    "order[\"order_placed_at\"] = pd.to_datetime(order[\"order_placed_at\"])"
   ]
  },
  {
   "cell_type": "code",
   "execution_count": 15,
   "id": "d0567780",
   "metadata": {},
   "outputs": [],
   "source": [
    "merged_data = pd.merge(order, orderitems, on = \"order_id\", how = \"inner\")\n",
    "dataset = pd.merge(merged_data, delivery, on = \"order_id\", how = \"inner\")"
   ]
  },
  {
   "cell_type": "code",
   "execution_count": 17,
   "id": "daf5a554",
   "metadata": {},
   "outputs": [
    {
     "data": {
      "text/html": [
       "<div>\n",
       "<style scoped>\n",
       "    .dataframe tbody tr th:only-of-type {\n",
       "        vertical-align: middle;\n",
       "    }\n",
       "\n",
       "    .dataframe tbody tr th {\n",
       "        vertical-align: top;\n",
       "    }\n",
       "\n",
       "    .dataframe thead th {\n",
       "        text-align: right;\n",
       "    }\n",
       "</style>\n",
       "<table border=\"1\" class=\"dataframe\">\n",
       "  <thead>\n",
       "    <tr style=\"text-align: right;\">\n",
       "      <th></th>\n",
       "      <th>order_id</th>\n",
       "      <th>order_placed_at</th>\n",
       "      <th>item_id</th>\n",
       "      <th>time_stamp</th>\n",
       "      <th>status</th>\n",
       "    </tr>\n",
       "  </thead>\n",
       "  <tbody>\n",
       "    <tr>\n",
       "      <th>0</th>\n",
       "      <td>321230114</td>\n",
       "      <td>2020-12-11 00:01:29</td>\n",
       "      <td>['p_025', 'p_032', 'p_037']</td>\n",
       "      <td>2020-12-11 00:01:29.000000000</td>\n",
       "      <td>Pending</td>\n",
       "    </tr>\n",
       "    <tr>\n",
       "      <th>1</th>\n",
       "      <td>321230114</td>\n",
       "      <td>2020-12-11 00:01:29</td>\n",
       "      <td>['p_025', 'p_032', 'p_037']</td>\n",
       "      <td>2020-12-11 00:06:29.000000000</td>\n",
       "      <td>Out For Delivery</td>\n",
       "    </tr>\n",
       "    <tr>\n",
       "      <th>2</th>\n",
       "      <td>321230114</td>\n",
       "      <td>2020-12-11 00:01:29</td>\n",
       "      <td>['p_025', 'p_032', 'p_037']</td>\n",
       "      <td>2020-12-11 00:19:13.299151076</td>\n",
       "      <td>Delivered</td>\n",
       "    </tr>\n",
       "    <tr>\n",
       "      <th>3</th>\n",
       "      <td>321230115</td>\n",
       "      <td>2020-12-11 00:36:02</td>\n",
       "      <td>['p_017', 'p_012']</td>\n",
       "      <td>2020-12-11 00:36:02.000000000</td>\n",
       "      <td>Pending</td>\n",
       "    </tr>\n",
       "    <tr>\n",
       "      <th>4</th>\n",
       "      <td>321230115</td>\n",
       "      <td>2020-12-11 00:36:02</td>\n",
       "      <td>['p_017', 'p_012']</td>\n",
       "      <td>2020-12-11 00:41:02.000000000</td>\n",
       "      <td>Out For Delivery</td>\n",
       "    </tr>\n",
       "  </tbody>\n",
       "</table>\n",
       "</div>"
      ],
      "text/plain": [
       "    order_id     order_placed_at                      item_id  \\\n",
       "0  321230114 2020-12-11 00:01:29  ['p_025', 'p_032', 'p_037']   \n",
       "1  321230114 2020-12-11 00:01:29  ['p_025', 'p_032', 'p_037']   \n",
       "2  321230114 2020-12-11 00:01:29  ['p_025', 'p_032', 'p_037']   \n",
       "3  321230115 2020-12-11 00:36:02           ['p_017', 'p_012']   \n",
       "4  321230115 2020-12-11 00:36:02           ['p_017', 'p_012']   \n",
       "\n",
       "                     time_stamp            status  \n",
       "0 2020-12-11 00:01:29.000000000           Pending  \n",
       "1 2020-12-11 00:06:29.000000000  Out For Delivery  \n",
       "2 2020-12-11 00:19:13.299151076         Delivered  \n",
       "3 2020-12-11 00:36:02.000000000           Pending  \n",
       "4 2020-12-11 00:41:02.000000000  Out For Delivery  "
      ]
     },
     "execution_count": 17,
     "metadata": {},
     "output_type": "execute_result"
    }
   ],
   "source": [
    "dataset.head()"
   ]
  },
  {
   "cell_type": "markdown",
   "id": "5f537beb",
   "metadata": {},
   "source": [
    "### What is the average Delivery Time (in minutes) taken by the store to deliver the Pizza?\n",
    "Round off the answer upto 2 decimal places."
   ]
  },
  {
   "cell_type": "code",
   "execution_count": 18,
   "id": "f0175600",
   "metadata": {},
   "outputs": [
    {
     "name": "stdout",
     "output_type": "stream",
     "text": [
      "The average delivery time is 8.55 minutes.\n"
     ]
    }
   ],
   "source": [
    "# Calculate the delivery time in minutes\n",
    "dataset[\"delivery_duration\"] = (dataset[\"time_stamp\"] - dataset[\"order_placed_at\"]).dt.total_seconds()/ 60\n",
    "\n",
    "# Calculate the average delivery time\n",
    "average_delivery_time = dataset[\"delivery_duration\"].mean()\n",
    "\n",
    "# Print the result\n",
    "print(f\"The average delivery time is {average_delivery_time:.2f} minutes.\")"
   ]
  },
  {
   "cell_type": "markdown",
   "id": "30ecef2f",
   "metadata": {},
   "source": [
    "### What is the 99th percentile Delivery Time (in minutes) taken by the store to deliver the Pizza?"
   ]
  },
  {
   "cell_type": "code",
   "execution_count": 20,
   "id": "6989211b",
   "metadata": {},
   "outputs": [
    {
     "name": "stdout",
     "output_type": "stream",
     "text": [
      "The 99th percentile delivery time is 27.75 minutes.\n"
     ]
    }
   ],
   "source": [
    "# Calculate the 99th percentile of the delivery time\n",
    "percentile_99_delivery_time = dataset['delivery_duration'].quantile(0.99)\n",
    "\n",
    "# Print the result\n",
    "print(f\"The 99th percentile delivery time is {percentile_99_delivery_time:.2f} minutes.\")"
   ]
  },
  {
   "cell_type": "markdown",
   "id": "288f4016",
   "metadata": {},
   "source": [
    "### What is the order id with the maximum delivery time?"
   ]
  },
  {
   "cell_type": "code",
   "execution_count": 24,
   "id": "949cb5b7",
   "metadata": {},
   "outputs": [
    {
     "name": "stdout",
     "output_type": "stream",
     "text": [
      "Order ID with the maximum delivery time: 321629049\n",
      "Maximum delivery time: 62.91207812871667 minutes\n"
     ]
    }
   ],
   "source": [
    "max_delivery_idx = dataset[\"delivery_duration\"].idxmax()\n",
    "order_id_max_delivery = dataset.loc[max_delivery_idx, \"order_id\"]\n",
    "max_delivery_time = dataset.loc[max_delivery_idx, \"delivery_duration\"]\n",
    "\n",
    "print(f\"Order ID with the maximum delivery time: {order_id_max_delivery}\")\n",
    "print(f\"Maximum delivery time: {max_delivery_time} minutes\")"
   ]
  },
  {
   "cell_type": "markdown",
   "id": "bcc5e0c6",
   "metadata": {},
   "source": [
    "### How many pizza's were ordered between 1st January and 31st January 2024 (INCLUSIVE)?"
   ]
  },
  {
   "cell_type": "code",
   "execution_count": 25,
   "id": "662f2858",
   "metadata": {},
   "outputs": [
    {
     "name": "stdout",
     "output_type": "stream",
     "text": [
      "Number of pizzas ordered between 1st and 31st January 2024: 11894\n"
     ]
    }
   ],
   "source": [
    "# Convert 'order_placed_at' to datetime if not done already\n",
    "order['order_placed_at'] = pd.to_datetime(order['order_placed_at'])\n",
    "\n",
    "# Filter orders between 1st and 31st January 2024\n",
    "january_orders = order[(order['order_placed_at'] >= '2024-01-01') & (order['order_placed_at'] <= '2024-01-31')]\n",
    "\n",
    "# Count the number of orders in this period\n",
    "january_order_count = january_orders['order_id'].nunique()\n",
    "\n",
    "print(f\"Number of pizzas ordered between 1st and 31st January 2024: {january_order_count}\")"
   ]
  },
  {
   "cell_type": "markdown",
   "id": "32f97873",
   "metadata": {},
   "source": [
    "### How many order took more than 30 minutes to deliver between 1st January and 31st January 2024 (INCLUSIVE)? This is important as Diminos promise 30 minutes delivery. For any pizza delivered after 30 minutes, customer will get a full refund"
   ]
  },
  {
   "cell_type": "code",
   "execution_count": 27,
   "id": "f819262a",
   "metadata": {},
   "outputs": [
    {
     "name": "stdout",
     "output_type": "stream",
     "text": [
      "Number of orders that took more than 30 minutes to deliver between 1st and 31st January 2024: 158\n"
     ]
    }
   ],
   "source": [
    "# Convert 'order_placed_at' and 'time_stamp' to datetime (if not already done)\n",
    "dataset['order_placed_at'] = pd.to_datetime(dataset['order_placed_at'])\n",
    "dataset['time_stamp'] = pd.to_datetime(dataset['time_stamp'])\n",
    "\n",
    "# Filter orders between 1st and 31st January 2024\n",
    "january_data = dataset[(dataset['order_placed_at'] >= '2024-01-01') & (dataset['order_placed_at'] <= '2024-01-31')]\n",
    "\n",
    "# Filter orders that took more than 30 minutes to deliver\n",
    "late_delivery = january_data[january_data['delivery_duration'] > 30]\n",
    "\n",
    "# Count the number of late orders\n",
    "late_order_count = late_delivery['order_id'].nunique()\n",
    "\n",
    "print(f\"Number of orders that took more than 30 minutes to deliver between 1st and 31st January 2024: {late_order_count}\")"
   ]
  },
  {
   "cell_type": "code",
   "execution_count": 29,
   "id": "36ec8586",
   "metadata": {},
   "outputs": [],
   "source": [
    "import ast\n",
    "dataset[\"item_id\"] = dataset[\"item_id\"].apply(ast.literal_eval)\n",
    "dataset_exploded = dataset.explode(\"item_id\")"
   ]
  },
  {
   "cell_type": "code",
   "execution_count": 30,
   "id": "eb9eec8b",
   "metadata": {},
   "outputs": [
    {
     "data": {
      "text/html": [
       "<div>\n",
       "<style scoped>\n",
       "    .dataframe tbody tr th:only-of-type {\n",
       "        vertical-align: middle;\n",
       "    }\n",
       "\n",
       "    .dataframe tbody tr th {\n",
       "        vertical-align: top;\n",
       "    }\n",
       "\n",
       "    .dataframe thead th {\n",
       "        text-align: right;\n",
       "    }\n",
       "</style>\n",
       "<table border=\"1\" class=\"dataframe\">\n",
       "  <thead>\n",
       "    <tr style=\"text-align: right;\">\n",
       "      <th></th>\n",
       "      <th>order_id</th>\n",
       "      <th>order_placed_at</th>\n",
       "      <th>item_id</th>\n",
       "      <th>time_stamp</th>\n",
       "      <th>status</th>\n",
       "      <th>delivery_duration</th>\n",
       "    </tr>\n",
       "  </thead>\n",
       "  <tbody>\n",
       "    <tr>\n",
       "      <th>0</th>\n",
       "      <td>321230114</td>\n",
       "      <td>2020-12-11 00:01:29</td>\n",
       "      <td>p_025</td>\n",
       "      <td>2020-12-11 00:01:29</td>\n",
       "      <td>Pending</td>\n",
       "      <td>0.0</td>\n",
       "    </tr>\n",
       "    <tr>\n",
       "      <th>0</th>\n",
       "      <td>321230114</td>\n",
       "      <td>2020-12-11 00:01:29</td>\n",
       "      <td>p_032</td>\n",
       "      <td>2020-12-11 00:01:29</td>\n",
       "      <td>Pending</td>\n",
       "      <td>0.0</td>\n",
       "    </tr>\n",
       "    <tr>\n",
       "      <th>0</th>\n",
       "      <td>321230114</td>\n",
       "      <td>2020-12-11 00:01:29</td>\n",
       "      <td>p_037</td>\n",
       "      <td>2020-12-11 00:01:29</td>\n",
       "      <td>Pending</td>\n",
       "      <td>0.0</td>\n",
       "    </tr>\n",
       "    <tr>\n",
       "      <th>1</th>\n",
       "      <td>321230114</td>\n",
       "      <td>2020-12-11 00:01:29</td>\n",
       "      <td>p_025</td>\n",
       "      <td>2020-12-11 00:06:29</td>\n",
       "      <td>Out For Delivery</td>\n",
       "      <td>5.0</td>\n",
       "    </tr>\n",
       "    <tr>\n",
       "      <th>1</th>\n",
       "      <td>321230114</td>\n",
       "      <td>2020-12-11 00:01:29</td>\n",
       "      <td>p_032</td>\n",
       "      <td>2020-12-11 00:06:29</td>\n",
       "      <td>Out For Delivery</td>\n",
       "      <td>5.0</td>\n",
       "    </tr>\n",
       "  </tbody>\n",
       "</table>\n",
       "</div>"
      ],
      "text/plain": [
       "    order_id     order_placed_at item_id          time_stamp  \\\n",
       "0  321230114 2020-12-11 00:01:29   p_025 2020-12-11 00:01:29   \n",
       "0  321230114 2020-12-11 00:01:29   p_032 2020-12-11 00:01:29   \n",
       "0  321230114 2020-12-11 00:01:29   p_037 2020-12-11 00:01:29   \n",
       "1  321230114 2020-12-11 00:01:29   p_025 2020-12-11 00:06:29   \n",
       "1  321230114 2020-12-11 00:01:29   p_032 2020-12-11 00:06:29   \n",
       "\n",
       "             status  delivery_duration  \n",
       "0           Pending                0.0  \n",
       "0           Pending                0.0  \n",
       "0           Pending                0.0  \n",
       "1  Out For Delivery                5.0  \n",
       "1  Out For Delivery                5.0  "
      ]
     },
     "execution_count": 30,
     "metadata": {},
     "output_type": "execute_result"
    }
   ],
   "source": [
    "dataset_exploded.head()"
   ]
  },
  {
   "cell_type": "code",
   "execution_count": 31,
   "id": "9629cd5e",
   "metadata": {},
   "outputs": [
    {
     "data": {
      "text/plain": [
       "(3476679, 6)"
      ]
     },
     "execution_count": 31,
     "metadata": {},
     "output_type": "execute_result"
    }
   ],
   "source": [
    "dataset_exploded.shape"
   ]
  },
  {
   "cell_type": "code",
   "execution_count": 33,
   "id": "db8a8f79",
   "metadata": {},
   "outputs": [
    {
     "data": {
      "text/plain": [
       "(3476679, 10)"
      ]
     },
     "execution_count": 33,
     "metadata": {},
     "output_type": "execute_result"
    }
   ],
   "source": [
    "dataset = dataset_exploded.merge(product, left_on = \"item_id\",right_on = \"item_id\", how = \"left\")\n",
    "dataset.shape"
   ]
  },
  {
   "cell_type": "code",
   "execution_count": 34,
   "id": "daf25a37",
   "metadata": {},
   "outputs": [
    {
     "data": {
      "text/plain": [
       "order_id             0\n",
       "order_placed_at      0\n",
       "item_id              0\n",
       "time_stamp           0\n",
       "status               0\n",
       "delivery_duration    0\n",
       "category             0\n",
       "Item                 0\n",
       "Size                 0\n",
       "Price                0\n",
       "dtype: int64"
      ]
     },
     "execution_count": 34,
     "metadata": {},
     "output_type": "execute_result"
    }
   ],
   "source": [
    "dataset.isnull().sum()\n"
   ]
  },
  {
   "cell_type": "code",
   "execution_count": 35,
   "id": "c5555877",
   "metadata": {},
   "outputs": [
    {
     "data": {
      "text/html": [
       "<div>\n",
       "<style scoped>\n",
       "    .dataframe tbody tr th:only-of-type {\n",
       "        vertical-align: middle;\n",
       "    }\n",
       "\n",
       "    .dataframe tbody tr th {\n",
       "        vertical-align: top;\n",
       "    }\n",
       "\n",
       "    .dataframe thead th {\n",
       "        text-align: right;\n",
       "    }\n",
       "</style>\n",
       "<table border=\"1\" class=\"dataframe\">\n",
       "  <thead>\n",
       "    <tr style=\"text-align: right;\">\n",
       "      <th></th>\n",
       "      <th>order_id</th>\n",
       "      <th>order_placed_at</th>\n",
       "      <th>item_id</th>\n",
       "      <th>time_stamp</th>\n",
       "      <th>status</th>\n",
       "      <th>delivery_duration</th>\n",
       "      <th>category</th>\n",
       "      <th>Item</th>\n",
       "      <th>Size</th>\n",
       "      <th>Price</th>\n",
       "    </tr>\n",
       "  </thead>\n",
       "  <tbody>\n",
       "    <tr>\n",
       "      <th>0</th>\n",
       "      <td>321230114</td>\n",
       "      <td>2020-12-11 00:01:29</td>\n",
       "      <td>p_025</td>\n",
       "      <td>2020-12-11 00:01:29</td>\n",
       "      <td>Pending</td>\n",
       "      <td>0.0</td>\n",
       "      <td>Non Veg</td>\n",
       "      <td>Chicken Dominator</td>\n",
       "      <td>Regular</td>\n",
       "      <td>365</td>\n",
       "    </tr>\n",
       "    <tr>\n",
       "      <th>1</th>\n",
       "      <td>321230114</td>\n",
       "      <td>2020-12-11 00:01:29</td>\n",
       "      <td>p_032</td>\n",
       "      <td>2020-12-11 00:01:29</td>\n",
       "      <td>Pending</td>\n",
       "      <td>0.0</td>\n",
       "      <td>Non Veg</td>\n",
       "      <td>Indi Chicken Tikka</td>\n",
       "      <td>Medium</td>\n",
       "      <td>599</td>\n",
       "    </tr>\n",
       "    <tr>\n",
       "      <th>2</th>\n",
       "      <td>321230114</td>\n",
       "      <td>2020-12-11 00:01:29</td>\n",
       "      <td>p_037</td>\n",
       "      <td>2020-12-11 00:01:29</td>\n",
       "      <td>Pending</td>\n",
       "      <td>0.0</td>\n",
       "      <td>Veg</td>\n",
       "      <td>Coke</td>\n",
       "      <td>Regular</td>\n",
       "      <td>71</td>\n",
       "    </tr>\n",
       "    <tr>\n",
       "      <th>3</th>\n",
       "      <td>321230114</td>\n",
       "      <td>2020-12-11 00:01:29</td>\n",
       "      <td>p_025</td>\n",
       "      <td>2020-12-11 00:06:29</td>\n",
       "      <td>Out For Delivery</td>\n",
       "      <td>5.0</td>\n",
       "      <td>Non Veg</td>\n",
       "      <td>Chicken Dominator</td>\n",
       "      <td>Regular</td>\n",
       "      <td>365</td>\n",
       "    </tr>\n",
       "    <tr>\n",
       "      <th>4</th>\n",
       "      <td>321230114</td>\n",
       "      <td>2020-12-11 00:01:29</td>\n",
       "      <td>p_032</td>\n",
       "      <td>2020-12-11 00:06:29</td>\n",
       "      <td>Out For Delivery</td>\n",
       "      <td>5.0</td>\n",
       "      <td>Non Veg</td>\n",
       "      <td>Indi Chicken Tikka</td>\n",
       "      <td>Medium</td>\n",
       "      <td>599</td>\n",
       "    </tr>\n",
       "  </tbody>\n",
       "</table>\n",
       "</div>"
      ],
      "text/plain": [
       "    order_id     order_placed_at item_id          time_stamp  \\\n",
       "0  321230114 2020-12-11 00:01:29   p_025 2020-12-11 00:01:29   \n",
       "1  321230114 2020-12-11 00:01:29   p_032 2020-12-11 00:01:29   \n",
       "2  321230114 2020-12-11 00:01:29   p_037 2020-12-11 00:01:29   \n",
       "3  321230114 2020-12-11 00:01:29   p_025 2020-12-11 00:06:29   \n",
       "4  321230114 2020-12-11 00:01:29   p_032 2020-12-11 00:06:29   \n",
       "\n",
       "             status  delivery_duration category                Item     Size  \\\n",
       "0           Pending                0.0  Non Veg   Chicken Dominator  Regular   \n",
       "1           Pending                0.0  Non Veg  Indi Chicken Tikka   Medium   \n",
       "2           Pending                0.0      Veg                Coke  Regular   \n",
       "3  Out For Delivery                5.0  Non Veg   Chicken Dominator  Regular   \n",
       "4  Out For Delivery                5.0  Non Veg  Indi Chicken Tikka   Medium   \n",
       "\n",
       "   Price  \n",
       "0    365  \n",
       "1    599  \n",
       "2     71  \n",
       "3    365  \n",
       "4    599  "
      ]
     },
     "execution_count": 35,
     "metadata": {},
     "output_type": "execute_result"
    }
   ],
   "source": [
    "dataset.head()"
   ]
  },
  {
   "cell_type": "markdown",
   "id": "d2731771",
   "metadata": {},
   "source": [
    "### What is the total amount Pizza store lost in 2023 due to refunds on late deliveries?"
   ]
  },
  {
   "cell_type": "code",
   "execution_count": 37,
   "id": "2d8da8c2",
   "metadata": {},
   "outputs": [
    {
     "name": "stdout",
     "output_type": "stream",
     "text": [
      "Total amount lost due to refunds in 2023: 1826393.00\n"
     ]
    }
   ],
   "source": [
    "\n",
    "orders_2023 = dataset[dataset['order_placed_at'].dt.year == 2023]\n",
    "\n",
    "\n",
    "# Find orders where delivery time exceeds 30 minutes\n",
    "late_delivery = orders_2023[orders_2023['delivery_duration'] > 30]\n",
    "\n",
    "# Calculate the total amount refunded due to late deliveries\n",
    "total_refund = late_delivery['Price'].sum()\n",
    "\n",
    "print(f\"Total amount lost due to refunds in 2023: {total_refund:.2f}\")\n"
   ]
  },
  {
   "cell_type": "markdown",
   "id": "43d2aa77",
   "metadata": {},
   "source": [
    "### In which year Pizza store has lost maximum amount due to refunds on late deliveries?"
   ]
  },
  {
   "cell_type": "code",
   "execution_count": 39,
   "id": "464c48e4",
   "metadata": {},
   "outputs": [
    {
     "name": "stdout",
     "output_type": "stream",
     "text": [
      "The pizza store lost the maximum amount in 2023, with a total refund of 1826393.00.\n"
     ]
    }
   ],
   "source": [
    "# Extract the year from 'order_placed_at'\n",
    "late_delivery['year'] = late_delivery['order_placed_at'].dt.year\n",
    "\n",
    "# Group by year and sum the refund amounts (assuming the refund is the 'cost' or 'Price' column)\n",
    "yearly_refunds = late_delivery.groupby('year')['Price'].sum()  # Change 'cost' to the correct price column if needed\n",
    "\n",
    "# Find the year with the maximum refund amount\n",
    "max_refund_year = yearly_refunds.idxmax()\n",
    "max_refund_amount = yearly_refunds.max()\n",
    "\n",
    "print(f\"The pizza store lost the maximum amount in {max_refund_year}, with a total refund of {max_refund_amount:.2f}.\")"
   ]
  },
  {
   "cell_type": "markdown",
   "id": "b59d58cb",
   "metadata": {},
   "source": [
    "### How much revenue is generated by the pizza store till date? Don't include the refund amount in revenue."
   ]
  },
  {
   "cell_type": "code",
   "execution_count": 43,
   "id": "cd3364d8",
   "metadata": {},
   "outputs": [
    {
     "name": "stdout",
     "output_type": "stream",
     "text": [
      "Total revenue generated (excluding refunds): 1217979030\n"
     ]
    }
   ],
   "source": [
    "# Filter for orders that took 30 minutes or less\n",
    "on_time_orders = dataset[dataset['delivery_duration'] <= 30]\n",
    "\n",
    "# Filter out the data that were delivered\n",
    "orders_delivered_on_time = on_time_orders[on_time_orders[\"status\"] == \"Delivered\"]\n",
    "\n",
    "# Calculate total revenue (excluding refunds)\n",
    "total_revenue = on_time_orders['Price'].sum()\n",
    "\n",
    "print(\"Total revenue generated (excluding refunds):\", total_revenue)"
   ]
  },
  {
   "cell_type": "markdown",
   "id": "e2c9dc4f",
   "metadata": {},
   "source": [
    "### (BONUS QUESTION) Which distribution can be used to model the number of orders incoming each hour? If we can somehow model it, which problem for owner of Pizza Store can be solved? (Implement this in a Jupyter Notebook. Upload your implementation on the google drive and share the link below.) "
   ]
  },
  {
   "cell_type": "code",
   "execution_count": 45,
   "id": "0cca1ee5",
   "metadata": {},
   "outputs": [
    {
     "name": "stdout",
     "output_type": "stream",
     "text": [
      "The average number of orders per hour is:17\n"
     ]
    }
   ],
   "source": [
    "# Extract the year, date, and hour from the order_placed_at timestamp\n",
    "dataset[\"Year\"] = dataset[\"order_placed_at\"].dt.year\n",
    "dataset[\"Date\"] = dataset[\"order_placed_at\"].dt.date\n",
    "dataset[\"Hour\"] = dataset[\"order_placed_at\"].dt.hour\n",
    "\n",
    "# Sort the dataset by order_placed_at for accurate ordering\n",
    "sorted_dataset = dataset.sort_values(by=\"order_placed_at\")\n",
    "\n",
    "# Remove duplicate orders, keeping only the first instance of each order_id\n",
    "unique_orders_dataset = sorted_dataset.drop_duplicates(subset=\"order_id\",keep=\"first\")\n",
    "\n",
    "# Group the data by Year, Date, and Hour to count the number of unique orders␣per hour\n",
    "orders_per_hour = unique_orders_dataset.groupby([\"Year\", \"Date\", \"Hour\"]).size().reset_index(name=\"Number_of_orders\")\n",
    "\n",
    "# Calculate the average number of orders per day from the grouped data\n",
    "average_orders_per_hour = orders_per_hour[\"Number_of_orders\"].mean()\n",
    "\n",
    "# Print the average number of orders per day, rounded to the nearest wholenumber\n",
    "print(f\"The average number of orders per hour is:{round(average_orders_per_hour)}\")"
   ]
  },
  {
   "cell_type": "code",
   "execution_count": 50,
   "id": "69af5f77",
   "metadata": {},
   "outputs": [
    {
     "data": {
      "image/png": "[encoded data removed]",
      "text/plain": [
       "<Figure size 1000x600 with 1 Axes>"
      ]
     },
     "metadata": {},
     "output_type": "display_data"
    },
    {
     "name": "stdout",
     "output_type": "stream",
     "text": [
      "Probability of receiving exactly 5 orders in an hour: 0.0005\n",
      "Cumulative probability of receiving up to 5 orders in an hour: 0.0007\n"
     ]
    }
   ],
   "source": [
    "from scipy.stats import poisson\n",
    "# Parameters\n",
    "lambda_rate = 17  # Average number of orders per hour\n",
    "\n",
    "# Generate Poisson distribution data\n",
    "x = np.arange(0, 30)  # Possible number of orders\n",
    "pmf = poisson.pmf(x, lambda_rate)  # Probability mass function\n",
    "\n",
    "# Plotting the Poisson distribution\n",
    "plt.figure(figsize=(10, 6))\n",
    "sns.barplot(x=x, y=pmf)\n",
    "plt.title('Poisson Distribution of Orders per Hour')\n",
    "plt.xlabel('Number of Orders')\n",
    "plt.ylabel('Probability')\n",
    "plt.xticks(x)\n",
    "plt.grid()\n",
    "plt.show()\n",
    "\n",
    "# Example calculation: Probability of receiving exactly 5 orders in an hour\n",
    "prob_5_orders = poisson.pmf(5, lambda_rate)\n",
    "print(f\"Probability of receiving exactly 5 orders in an hour: {prob_5_orders:.4f}\")\n",
    "\n",
    "# Example calculation: Cumulative probability of receiving up to 5 orders\n",
    "cumulative_prob_5 = poisson.cdf(5, lambda_rate)\n",
    "print(f\"Cumulative probability of receiving up to 5 orders in an hour: {cumulative_prob_5:.4f}\")"
   ]
  },
  {
   "cell_type": "markdown",
   "id": "2c852b31",
   "metadata": {},
   "source": [
    "### Poisson distribution is suitable for modeling the number of events (in this case, orders) that occur in a fixed interval of time or space when these events happen with a known constant mean rate and independently of the time since the last event."
   ]
  },
  {
   "cell_type": "code",
   "execution_count": null,
   "id": "7b958e1c",
   "metadata": {},
   "outputs": [],
   "source": []
  },
  {
   "cell_type": "code",
   "execution_count": null,
   "id": "4d94bdd4",
   "metadata": {},
   "outputs": [],
   "source": []
  },
  {
   "cell_type": "code",
   "execution_count": null,
   "id": "c8b6fe5f",
   "metadata": {},
   "outputs": [],
   "source": []
  },
  {
   "cell_type": "code",
   "execution_count": null,
   "id": "954030a9",
   "metadata": {},
   "outputs": [],
   "source": []
  },
  {
   "cell_type": "code",
   "execution_count": null,
   "id": "85e2a032",
   "metadata": {},
   "outputs": [],
   "source": []
  },
  {
   "cell_type": "code",
   "execution_count": null,
   "id": "65287e76",
   "metadata": {},
   "outputs": [],
   "source": []
  },
  {
   "cell_type": "code",
   "execution_count": null,
   "id": "ba6d9165",
   "metadata": {},
   "outputs": [],
   "source": []
  },
  {
   "cell_type": "code",
   "execution_count": null,
   "id": "76f86d48",
   "metadata": {},
   "outputs": [],
   "source": []
  },
  {
   "cell_type": "code",
   "execution_count": null,
   "id": "aeffb4ff",
   "metadata": {},
   "outputs": [],
   "source": []
  },
  {
   "cell_type": "code",
   "execution_count": null,
   "id": "b17c9dcf",
   "metadata": {},
   "outputs": [],
   "source": []
  },
  {
   "cell_type": "code",
   "execution_count": null,
   "id": "d273c479",
   "metadata": {},
   "outputs": [],
   "source": []
  },
  {
   "cell_type": "raw",
   "id": "66c5d3e8",
   "metadata": {},
   "source": []
  }
 ],
 "metadata": {
  "kernelspec": {
   "display_name": "Python 3 (ipykernel)",
   "language": "python",
   "name": "python3"
  },
  "language_info": {
   "codemirror_mode": {
    "name": "ipython",
    "version": 3
   },
   "file_extension": ".py",
   "mimetype": "text/x-python",
   "name": "python",
   "nbconvert_exporter": "python",
   "pygments_lexer": "ipython3",
   "version": "3.9.13"
  }
 },
 "nbformat": 4,
 "nbformat_minor": 5
}
